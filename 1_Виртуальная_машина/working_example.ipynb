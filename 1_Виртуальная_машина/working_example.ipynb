{
 "cells": [
  {
   "cell_type": "code",
   "execution_count": 1,
   "metadata": {
    "collapsed": true
   },
   "outputs": [],
   "source": [
    "from VirtualMachine import VirtualMachine\n",
    "from Assembler import Assembler\n",
    "from Disassembler import Disassembler\n"
   ]
  },
  {
   "cell_type": "code",
   "execution_count": 2,
   "metadata": {
    "collapsed": false
   },
   "outputs": [
    {
     "name": "stdout",
     "output_type": "stream",
     "text": [
      "Эта программа возвращает n-й элемент последовательности Фибоначчи!\n",
      "Введите число n:\n",
      "2\n",
      "Результат:\n",
      "2\n"
     ]
    }
   ],
   "source": [
    "asm = Assembler()\n",
    "asm.assembly(\"fib.asm\", \"fib.bin\")\n",
    "\n",
    "vm = VirtualMachine(500)\n",
    "vm.read_program_from_file(\"fib.bin\")\n",
    "vm.run()"
   ]
  },
  {
   "cell_type": "code",
   "execution_count": 3,
   "metadata": {
    "collapsed": false
   },
   "outputs": [
    {
     "name": "stdout",
     "output_type": "stream",
     "text": [
      "Эта программа возвращает n-й элемент последовательности Фибоначчи!\n",
      "Введите число n:\n",
      "3\n",
      "Результат:\n",
      "3\n"
     ]
    }
   ],
   "source": [
    "vm.run()"
   ]
  },
  {
   "cell_type": "code",
   "execution_count": 4,
   "metadata": {
    "collapsed": false
   },
   "outputs": [
    {
     "name": "stdout",
     "output_type": "stream",
     "text": [
      "Эта программа возвращает n-й элемент последовательности Фибоначчи!\n",
      "Введите число n:\n",
      "5\n",
      "Результат:\n",
      "8\n"
     ]
    }
   ],
   "source": [
    "vm.run()"
   ]
  },
  {
   "cell_type": "code",
   "execution_count": 5,
   "metadata": {
    "collapsed": false
   },
   "outputs": [
    {
     "name": "stdout",
     "output_type": "stream",
     "text": [
      "Эта программа возвращает n-й элемент последовательности Фибоначчи!\n",
      "Введите число n:\n",
      "8\n",
      "Результат:\n",
      "34\n"
     ]
    }
   ],
   "source": [
    "vm.run()"
   ]
  },
  {
   "cell_type": "code",
   "execution_count": 6,
   "metadata": {
    "collapsed": false
   },
   "outputs": [
    {
     "name": "stdout",
     "output_type": "stream",
     "text": [
      "Эта программа возвращает n-й элемент последовательности Фибоначчи!\n",
      "Введите число n:\n",
      "9\n",
      "Результат:\n",
      "55\n"
     ]
    }
   ],
   "source": [
    "vm.run()"
   ]
  },
  {
   "cell_type": "code",
   "execution_count": 7,
   "metadata": {
    "collapsed": false
   },
   "outputs": [
    {
     "name": "stdout",
     "output_type": "stream",
     "text": [
      "Эта программа возвращает n-й элемент последовательности Фибоначчи!\n",
      "Введите число n:\n",
      "21\n",
      "Результат:\n",
      "17711\n"
     ]
    }
   ],
   "source": [
    "vm.run()"
   ]
  },
  {
   "cell_type": "code",
   "execution_count": 8,
   "metadata": {
    "collapsed": true
   },
   "outputs": [],
   "source": [
    "dis_asm = Disassembler()\n",
    "dis_asm.disassembly(\"fib.bin\", \"disasm_fib.asm\")"
   ]
  },
  {
   "cell_type": "code",
   "execution_count": null,
   "metadata": {
    "collapsed": true
   },
   "outputs": [],
   "source": []
  }
 ],
 "metadata": {
  "kernelspec": {
   "display_name": "Python 3",
   "language": "python",
   "name": "python3"
  },
  "language_info": {
   "codemirror_mode": {
    "name": "ipython",
    "version": 3
   },
   "file_extension": ".py",
   "mimetype": "text/x-python",
   "name": "python",
   "nbconvert_exporter": "python",
   "pygments_lexer": "ipython3",
   "version": "3.6.0"
  }
 },
 "nbformat": 4,
 "nbformat_minor": 2
}
