{
 "cells": [
  {
   "cell_type": "code",
   "execution_count": 69,
   "metadata": {
    "collapsed": true
   },
   "outputs": [],
   "source": [
    "import numpy as np\n",
    "from collections import defaultdict"
   ]
  },
  {
   "cell_type": "code",
   "execution_count": 95,
   "metadata": {
    "collapsed": false
   },
   "outputs": [],
   "source": [
    "class LINQ_list:\n",
    "    def __init__(self, data):\n",
    "        self._data = iter(data)\n",
    "    \n",
    "    def ToList(self):\n",
    "        return list(self._data)\n",
    "    \n",
    "    def Select(self, operation):\n",
    "        return LINQ_list(operation(elem) for elem in self._data)\n",
    "            \n",
    "    def Where(self, predicate):                \n",
    "        return LINQ_list(elem for elem in self._data if predicate(elem))\n",
    "    \n",
    "    def Flatten(self):\n",
    "        return LINQ_list(elem for elems in self._data for elem in elems)\n",
    "    \n",
    "    def Take(self, k):\n",
    "        def ret():\n",
    "            for i in range(k):\n",
    "                yield next(self._data)\n",
    "        return LINQ_list(ret())\n",
    "    \n",
    "    \n",
    "    class LazyContainerIterator:\n",
    "        def __init__(self, fun_generator):\n",
    "            self._fun_generator = fun_generator\n",
    "            self._iterator = None\n",
    "            \n",
    "        def __next__(self):\n",
    "            if self._iterator is None:\n",
    "                self._iterator = iter(self._fun_generator())\n",
    "            return next(self._iterator)\n",
    "                \n",
    "        def __iter__(self):\n",
    "            return self\n",
    "    \n",
    "    def GroupBy(self, key_calculator):\n",
    "        def fun():\n",
    "            groups_dict = defaultdict(list)\n",
    "            for x in self._data:\n",
    "                groups_dict[key_calculator(x)].append(x)\n",
    "            return groups_dict.items()\n",
    "        return LINQ_list(self.LazyContainerIterator(fun))\n",
    "            \n",
    "    def OrderBy(self, sorter):\n",
    "        return LINQ_list(sorted(self._data, key=sorter))"
   ]
  },
  {
   "cell_type": "code",
   "execution_count": 93,
   "metadata": {
    "collapsed": false
   },
   "outputs": [],
   "source": [
    "# def f():\n",
    "#     yield 1\n",
    "#     yield 2\n",
    "    \n",
    "# a = iter(f())\n",
    "# print(next(a))\n",
    "# print(next(a))\n",
    "# print(next(a))"
   ]
  },
  {
   "cell_type": "code",
   "execution_count": 94,
   "metadata": {
    "collapsed": false
   },
   "outputs": [
    {
     "name": "stdout",
     "output_type": "stream",
     "text": [
      "[(0, [0, 2]), (1, [1])]\n"
     ]
    }
   ],
   "source": [
    "l = LINQ_list(range(3))\n",
    "print(l.GroupBy(lambda x : x % 2).ToList())"
   ]
  },
  {
   "cell_type": "code",
   "execution_count": 63,
   "metadata": {
    "collapsed": false
   },
   "outputs": [
    {
     "data": {
      "text/plain": [
       "[1, 4]"
      ]
     },
     "execution_count": 63,
     "metadata": {},
     "output_type": "execute_result"
    }
   ],
   "source": [
    "l = LINQ_list(range(3))\n",
    "l.Select(lambda x : x * x).Where(lambda x: x > 0).ToList()\n",
    "#next(gen)"
   ]
  },
  {
   "cell_type": "code",
   "execution_count": 96,
   "metadata": {
    "collapsed": false
   },
   "outputs": [
    {
     "data": {
      "text/plain": [
       "[4, 3, 2, 1]"
      ]
     },
     "execution_count": 96,
     "metadata": {},
     "output_type": "execute_result"
    }
   ],
   "source": [
    "l1 = LINQ_list([[1, 2, 3], [4, 5]])\n",
    "l1.Flatten().Take(4).OrderBy(lambda x : -x).ToList()"
   ]
  },
  {
   "cell_type": "code",
   "execution_count": null,
   "metadata": {
    "collapsed": true
   },
   "outputs": [],
   "source": []
  },
  {
   "cell_type": "code",
   "execution_count": 97,
   "metadata": {
    "collapsed": true
   },
   "outputs": [],
   "source": [
    "def fibonacci_generator():\n",
    "    a, b = 1, 1\n",
    "    while True:\n",
    "        yield a;\n",
    "        a, b = b, a + b"
   ]
  },
  {
   "cell_type": "code",
   "execution_count": 100,
   "metadata": {
    "collapsed": false
   },
   "outputs": [
    {
     "data": {
      "text/plain": [
       "[3, 21, 20736, 987, 6765]"
      ]
     },
     "execution_count": 100,
     "metadata": {},
     "output_type": "execute_result"
    }
   ],
   "source": [
    "fib = LINQ_list(fibonacci_generator())\n",
    "fib.Where(lambda x : x % 3 == 0).Select(lambda x: x * x if x % 2 == 0 else x).Take(5).ToList()"
   ]
  },
  {
   "cell_type": "code",
   "execution_count": 108,
   "metadata": {
    "collapsed": false
   },
   "outputs": [
    {
     "data": {
      "text/plain": [
       "[('hello', 4), ('lala', 3), ('lalala', 1), ('wwergw', 1)]"
      ]
     },
     "execution_count": 108,
     "metadata": {},
     "output_type": "execute_result"
    }
   ],
   "source": [
    "string = \"lalala lala wwergw lala hello hello\\n hello hello lala\"\n",
    "strings = string.split(\"\\n\")\n",
    "\n",
    "word_count = LINQ_list(strings)\n",
    "word_count.Select(str.split).Flatten().GroupBy(lambda x: x).Select(lambda pair: (pair[0], len(pair[1])))\\\n",
    ".OrderBy(lambda pair : -pair[1]).ToList()"
   ]
  },
  {
   "cell_type": "code",
   "execution_count": 110,
   "metadata": {
    "collapsed": false
   },
   "outputs": [
    {
     "name": "stdout",
     "output_type": "stream",
     "text": [
      "[('в', 13), ('Российской', 12), ('по', 11), ('Федерации', 8), ('и', 7), ('года', 7), ('с', 6), ('7', 4), ('2012', 4), ('1999', 4), ('был', 4), ('—', 3), ('мая', 3), ('Федерации.', 3), ('безопасности', 3), ('С', 3), ('работал', 3), ('президента', 3), ('государственный', 2), ('2000', 2), ('2008', 2), ('В', 2), ('годах', 2), ('Правительства', 2), ('директора', 2), ('секретаря', 2), ('Совета', 2), ('Ленинградского', 2), ('должности', 2), ('августа', 2), ('на', 2), ('назначен', 2), ('государства', 2), ('России', 2), ('(1997).', 2), ('самбо', 2), ('дзюдо', 2), ('Влади́мир', 1), ('Влади́мирович', 1), ('Пу́тин', 1), ('(род.', 1), ('октября', 1), ('1952,', 1), ('Ленинград,', 1), ('РСФСР,', 1), ('СССР[5][6])', 1), ('российский', 1), ('политический', 1), ('деятель,', 1), ('действующий', 1), ('Президент', 1), ('Федерации,', 1), ('Верховный', 1), ('Главнокомандующий', 1), ('Вооружёнными', 1), ('силами', 1), ('года[7][8].', 1), ('1999—2000', 1), ('годы', 1), ('Председатель', 1), ('Занимал', 1), ('посты', 1), ('Федеральной', 1), ('службы', 1), ('1998', 1), ('год,', 1), ('году.', 1), ('Выпускник', 1), ('юридического', 1), ('факультета', 1), ('государственного', 1), ('университета.', 1), ('1977', 1), ('линии', 1), ('контрразведки', 1), ('следственном', 1), ('отделе', 1), ('управления', 1), ('КГБ[9].', 1), ('1985', 1), ('1990', 1), ('год', 1), ('служил', 1), ('резидентуре', 1), ('советской', 1), ('внешней', 1), ('разведки', 1), ('ГДР,', 1), ('Дрездене', 1), ('под', 1), ('прикрытием', 1), ('дрезденского', 1), ('Дома', 1), ('дружбы', 1), ('СССР—ГДР.', 1), ('20', 1), ('1991', 1), ('звании', 1), ('подполковника', 1), ('уволился', 1), ('из', 1), ('КГБ', 1), ('СССР.', 1), ('1991—1996', 1), ('помощником', 1), ('ректора', 1), ('ЛГУ', 1), ('международным', 1), ('вопросам,', 1), ('возглавлял', 1), ('Комитет', 1), ('внешним', 1), ('связям', 1), ('мэрии', 1), ('Ленинграда,', 1), ('советником', 1), ('мэра,', 1), ('первым', 1), ('заместителем', 1), ('председателя', 1), ('правительства', 1), ('Санкт-Петербурга.', 1), ('1996', 1), ('начал', 1), ('работать', 1), ('Москве', 1), ('заместителя', 1), ('управляющего', 1), ('делами', 1), ('Президента', 1), ('После', 1), ('недолгого', 1), ('пребывания', 1), ('во', 1), ('главе', 1), ('ФСБ', 1), ('РФ', 1), ('посту', 1), ('августе', 1), ('председателем', 1), ('Первым', 1), ('лицом', 1), ('стал', 1), ('31', 1), ('декабря', 1), ('года,', 1), ('когда', 1), ('решению', 1), ('Бориса', 1), ('Ельцина', 1), ('исполняющим', 1), ('обязанности', 1), ('связи', 1), ('уходом', 1), ('первого', 1), ('досрочную', 1), ('отставку.', 1), ('Впервые', 1), ('избран', 1), ('президентом', 1), ('26', 1), ('марта', 1), ('года.', 1), ('Переизбирался', 1), ('пост', 1), ('главы', 1), ('2004,', 1), ('2018', 1), ('годах.', 1), ('Перед', 1), ('выборами', 1), ('срок', 1), ('президентских', 1), ('полномочий', 1), ('конституционно', 1), ('увеличен', 1), ('4', 1), ('до', 1), ('6', 1), ('лет.', 1), ('Полковник', 1), ('запаса', 1), ('(1999).', 1), ('Действительный', 1), ('советник', 1), ('1', 1), ('класса', 1), ('Кандидат', 1), ('экономических', 1), ('наук', 1), ('Мастер', 1), ('спорта', 1), ('(1973)', 1), ('(1975)[10],', 1), ('чемпион', 1), ('Ленинграда', 1), ('(1976)[11][12],', 1), ('заслуженный', 1), ('тренер', 1), ('(1998)[13][14].', 1), ('Свободно', 1), ('владеет', 1), ('немецким[15][16]', 1), ('английским', 1), ('языками[17].', 1)]\n"
     ]
    }
   ],
   "source": [
    "with open(\"text.txt\", 'r') as f:\n",
    "    file_strings = LINQ_list(f.readlines())\n",
    "    print(file_strings.Select(str.split).Flatten().GroupBy(lambda x: x).Select(lambda pair: (pair[0], len(pair[1])))\\\n",
    "        .OrderBy(lambda pair : -pair[1]).ToList())"
   ]
  },
  {
   "cell_type": "code",
   "execution_count": null,
   "metadata": {
    "collapsed": true
   },
   "outputs": [],
   "source": []
  }
 ],
 "metadata": {
  "kernelspec": {
   "display_name": "Python 3",
   "language": "python",
   "name": "python3"
  },
  "language_info": {
   "codemirror_mode": {
    "name": "ipython",
    "version": 3
   },
   "file_extension": ".py",
   "mimetype": "text/x-python",
   "name": "python",
   "nbconvert_exporter": "python",
   "pygments_lexer": "ipython3",
   "version": "3.6.0"
  }
 },
 "nbformat": 4,
 "nbformat_minor": 2
}
